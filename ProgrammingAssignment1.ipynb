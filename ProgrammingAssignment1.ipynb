{
 "cells": [
  {
   "cell_type": "markdown",
   "id": "e473ec9c",
   "metadata": {},
   "source": [
    "# CS-150 \n",
    "### Joey Guthrie\n",
    "#### Version 1 of Assignment 1"
   ]
  },
  {
   "cell_type": "markdown",
   "id": "c90d2061",
   "metadata": {},
   "source": [
    "## Getting started with markdown"
   ]
  },
  {
   "cell_type": "markdown",
   "id": "1152bd06",
   "metadata": {},
   "source": [
    "> This is a filler paragraph. Text. Stuff. Words. I dont wanna just spam the keyboard because then its obvious that this is gibberish, which it is, but I dont want it to be clearly gibberish. There is literally no meaning to any of this, it is all just dedicatory filler text. I think it needs to be just a little bit longer so I am typing this to bulk the paragraph out a little bit. It is currently January 9th as of the day I am typing this."
   ]
  },
  {
   "cell_type": "markdown",
   "id": "ef4b242f",
   "metadata": {},
   "source": [
    "* Chapter1\n",
    "* Chapter2\n",
    "* Chapter3&4\n",
    "* Chapter5\n",
    "* Chapter6\n",
    "* Chapter7\n",
    "* Chapter8&11\n",
    "* Chapter9&11"
   ]
  },
  {
   "cell_type": "markdown",
   "id": "aec264df",
   "metadata": {},
   "source": [
    "1. Assignment1\n",
    "2. Assignment2\n",
    "3. Assignment3\n",
    "4. Assignment4\n",
    "5. Assignment5\n",
    "6. Assignment6\n",
    "7. Assignment7"
   ]
  },
  {
   "cell_type": "markdown",
   "id": "ae445a97",
   "metadata": {},
   "source": [
    "This sentence has **Bold words**.\n",
    "This sentence has *Italic words*."
   ]
  },
  {
   "cell_type": "markdown",
   "id": "b1b3ed62",
   "metadata": {},
   "source": [
    "This sentence has `Highlighted words`"
   ]
  },
  {
   "cell_type": "markdown",
   "id": "5945429b",
   "metadata": {},
   "source": [
    "This is the hyperlink to my GitHub\n",
    " <a href=\"https://github.com/chakatzib\">account</a>"
   ]
  },
  {
   "cell_type": "markdown",
   "id": "fd0f378d",
   "metadata": {},
   "source": [
    "![ChakATzib](https://avatars.githubusercontent.com/u/122104713?s=40&v=4)"
   ]
  },
  {
   "cell_type": "code",
   "execution_count": null,
   "id": "ff2e383f",
   "metadata": {},
   "outputs": [],
   "source": []
  }
 ],
 "metadata": {
  "kernelspec": {
   "display_name": "Python 3 (ipykernel)",
   "language": "python",
   "name": "python3"
  },
  "language_info": {
   "codemirror_mode": {
    "name": "ipython",
    "version": 3
   },
   "file_extension": ".py",
   "mimetype": "text/x-python",
   "name": "python",
   "nbconvert_exporter": "python",
   "pygments_lexer": "ipython3",
   "version": "3.9.13"
  }
 },
 "nbformat": 4,
 "nbformat_minor": 5
}
